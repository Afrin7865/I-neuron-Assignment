{
 "cells": [
  {
   "cell_type": "markdown",
   "metadata": {},
   "source": [
    "# Q1. Write a Python Program(with class concepts) to find the area of the triangle using the below formula.\n",
    "area = (s(s-a)(s-b)*(s-c)) ** 0.5 Function to take the length of the sides of triangle\n",
    "from user should be defined in the parentclass and function to calculate the area should be defined in subclass"
   ]
  },
  {
   "cell_type": "code",
   "execution_count": 5,
   "metadata": {},
   "outputs": [
    {
     "name": "stdout",
     "output_type": "stream",
     "text": [
      "enter a length of i : 3\n",
      "enter a length of j : 4\n",
      "enter a length of k : 5\n",
      "Area of Triangle is 6.0\n"
     ]
    }
   ],
   "source": [
    "class Triangle:\n",
    "    def __init__(self,i,j,k):\n",
    "        self.i=i\n",
    "        self.j=j\n",
    "        self.k=k\n",
    "    def area(self):\n",
    "        s=(self.i+self.j+self.k)/2\n",
    "        area=(s*(s-self.i)*(s-self.j)*(s-self.k))**0.5\n",
    "        \n",
    "        return area\n",
    "    \n",
    "i=float(input(\"enter a length of i : \"))\n",
    "j=float(input(\"enter a length of j : \"))\n",
    "k=float(input(\"enter a length of k : \"))\n",
    "\n",
    "Tri=Triangle(i,j,k)\n",
    "\n",
    "print(\"Area of Triangle is {}\".format(Tri.area()))"
   ]
  },
  {
   "cell_type": "markdown",
   "metadata": {},
   "source": [
    "# Q1.2 Write a function filter_long_words() that takes a list of words andan integer n and returns the list of words that are longer than n"
   ]
  },
  {
   "cell_type": "code",
   "execution_count": 8,
   "metadata": {},
   "outputs": [
    {
     "name": "stdout",
     "output_type": "stream",
     "text": [
      "Enter a value for n:- 3\n",
      "List of words longer than 3\n",
      "['afrin', 'irfanpathan', 'asgdgkjhhg']\n"
     ]
    }
   ],
   "source": [
    "def filter_long_word(list1,n):\n",
    "    \n",
    "    list2=[]\n",
    "    \n",
    "    for i in range(0,len(list1)):\n",
    "        \n",
    "        if len(list1[i]) > n:\n",
    "            list2.append(list1[i])\n",
    "            \n",
    "    return list2\n",
    "\n",
    "list3=['afrin','irfanpathan','asgdgkjhhg','inu','asd']\n",
    "\n",
    "n= int(input(\"Enter a value for n:- \"))\n",
    "\n",
    "lst=filter_long_word(list3,n)\n",
    "print(\"List of words longer than {}\".format(n))\n",
    "print(lst)"
   ]
  },
  {
   "cell_type": "markdown",
   "metadata": {},
   "source": [
    "# Q2.1 Write a Python program using function concept that maps list of words into a list of integers representing the lengths of the corresponding words.Hint: If a list [ ab,cde,erty] is passed on to the python function output should come as [2,3,4] Here 2,3 and 4 are the lengths of the words in the list."
   ]
  },
  {
   "cell_type": "code",
   "execution_count": 11,
   "metadata": {},
   "outputs": [
    {
     "name": "stdout",
     "output_type": "stream",
     "text": [
      "[2, 3, 4]\n"
     ]
    }
   ],
   "source": [
    "def find_length(list_1):\n",
    "    new_list=[]\n",
    "    for i in range (0,len(list_1)):\n",
    "        new_list.append(len(list_1[i]))\n",
    "    return new_list\n",
    "list_2=['ab','cde','erty']\n",
    "length_lst=find_length(list_2)\n",
    "print(length_lst)"
   ]
  },
  {
   "cell_type": "markdown",
   "metadata": {},
   "source": [
    "# Q2.2 Write a Python function which takes a character (i.e. a string of length 1) and returns True if it is a vowel, False otherwise"
   ]
  },
  {
   "cell_type": "code",
   "execution_count": 18,
   "metadata": {},
   "outputs": [
    {
     "name": "stdout",
     "output_type": "stream",
     "text": [
      "enter letter: A\n",
      "True\n"
     ]
    }
   ],
   "source": [
    "def vowel(x):\n",
    "    if len(x) == 1:\n",
    "        if x in ('a','e','i','o','u','A','E','I','O','U'):\n",
    "            \n",
    "            return True\n",
    "        else:\n",
    "            \n",
    "            return False\n",
    "        \n",
    "    else:\n",
    "        \n",
    "        print('Type only one letter')\n",
    "        \n",
    "char=input(\"enter letter: \")\n",
    "print(vowel(char))\n",
    "#print(vowel('E'))\n",
    "#print(vowel('al'))"
   ]
  },
  {
   "cell_type": "code",
   "execution_count": null,
   "metadata": {},
   "outputs": [],
   "source": []
  },
  {
   "cell_type": "code",
   "execution_count": null,
   "metadata": {},
   "outputs": [],
   "source": []
  }
 ],
 "metadata": {
  "kernelspec": {
   "display_name": "Python 3",
   "language": "python",
   "name": "python3"
  },
  "language_info": {
   "codemirror_mode": {
    "name": "ipython",
    "version": 3
   },
   "file_extension": ".py",
   "mimetype": "text/x-python",
   "name": "python",
   "nbconvert_exporter": "python",
   "pygments_lexer": "ipython3",
   "version": "3.8.5"
  }
 },
 "nbformat": 4,
 "nbformat_minor": 4
}
